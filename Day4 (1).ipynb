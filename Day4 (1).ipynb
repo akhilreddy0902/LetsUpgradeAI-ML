{
  "nbformat": 4,
  "nbformat_minor": 0,
  "metadata": {
    "colab": {
      "name": "Day4.ipynb",
      "provenance": [],
      "collapsed_sections": []
    },
    "kernelspec": {
      "name": "python3",
      "display_name": "Python 3"
    }
  },
  "cells": [
    {
      "cell_type": "code",
      "metadata": {
        "id": "Tp1uW05ccY3p",
        "colab_type": "code",
        "colab": {
          "base_uri": "https://localhost:8080/",
          "height": 87
        },
        "outputId": "ceac9057-7e9b-4338-dd64-c854f3f18a2f"
      },
      "source": [
        "a=(4+5j)+(6+7j)\n",
        "d=(4+5j)/(6+7j)\n",
        "e=(4+5j)*(6+7j)\n",
        "k=(4+5j)-(6+7j)\n",
        " #mod cant e used in complex no\n",
        "print(\"add of two complex numers is:\",a)\n",
        "print(\"sub of two complex numers is:\",k)\n",
        "print(\"dividion of tow complex numbers are:\",d)\n",
        "print(\"mult of two comlpex numers are:\",e)"
      ],
      "execution_count": 34,
      "outputs": [
        {
          "output_type": "stream",
          "text": [
            "add of two complex numers is: (10+12j)\n",
            "sub of two complex numers is: (-2-2j)\n",
            "dividion of tow complex numbers are: (0.6941176470588236+0.02352941176470587j)\n",
            "mult of two comlpex numers are: (-11+58j)\n"
          ],
          "name": "stdout"
        }
      ]
    },
    {
      "cell_type": "code",
      "metadata": {
        "id": "-SAoe7nJjqrR",
        "colab_type": "code",
        "colab": {
          "base_uri": "https://localhost:8080/",
          "height": 35
        },
        "outputId": "b1ac51e5-3a6f-48ba-e6c5-be6c41169569"
      },
      "source": [
        "for i in range(0,10):\n",
        "     print(i,end=', ')\n",
        "     #here we got integers from 0 to 9 because range function doesnt include the last (stop) numer in the result"
      ],
      "execution_count": 10,
      "outputs": [
        {
          "output_type": "stream",
          "text": [
            "0, 1, 2, 3, 4, 5, 6, 7, 8, 9, "
          ],
          "name": "stdout"
        }
      ]
    },
    {
      "cell_type": "code",
      "metadata": {
        "id": "SxlKimFxmE_d",
        "colab_type": "code",
        "colab": {
          "base_uri": "https://localhost:8080/",
          "height": 69
        },
        "outputId": "d0004365-5a43-4bed-fe5a-8df7ed852a03"
      },
      "source": [
        "a=int(input())\n",
        "d=int(input())\n",
        "if (a-d)>25:\n",
        "    print(\"multiplication of two numers is\", a*d)\n",
        "else:\n",
        "    print(\"division of two numers is\",a/d)  "
      ],
      "execution_count": 24,
      "outputs": [
        {
          "output_type": "stream",
          "text": [
            "26\n",
            "1\n",
            "division of two numers is 26.0\n"
          ],
          "name": "stdout"
        }
      ]
    },
    {
      "cell_type": "code",
      "metadata": {
        "id": "LMZvi5yrxnOf",
        "colab_type": "code",
        "colab": {
          "base_uri": "https://localhost:8080/",
          "height": 235
        },
        "outputId": "b99537ee-2db1-41f8-f121-145f2b7aee83"
      },
      "source": [
        "import math\n",
        "a=int[1,3,5,4,7]\n",
        "if ((a%2)==0):\n",
        "    print(math.sqrt(a)-2)\n",
        "else:\n",
        "    print(\"undefined no\")    "
      ],
      "execution_count": 31,
      "outputs": [
        {
          "output_type": "error",
          "ename": "TypeError",
          "evalue": "ignored",
          "traceback": [
            "\u001b[0;31m---------------------------------------------------------------------------\u001b[0m",
            "\u001b[0;31mTypeError\u001b[0m                                 Traceback (most recent call last)",
            "\u001b[0;32m<ipython-input-31-b1beb1a4d974>\u001b[0m in \u001b[0;36m<module>\u001b[0;34m()\u001b[0m\n\u001b[1;32m      1\u001b[0m \u001b[0;32mimport\u001b[0m \u001b[0mmath\u001b[0m\u001b[0;34m\u001b[0m\u001b[0;34m\u001b[0m\u001b[0m\n\u001b[0;32m----> 2\u001b[0;31m \u001b[0ma\u001b[0m\u001b[0;34m=\u001b[0m\u001b[0mint\u001b[0m\u001b[0;34m[\u001b[0m\u001b[0;36m1\u001b[0m\u001b[0;34m,\u001b[0m\u001b[0;36m3\u001b[0m\u001b[0;34m,\u001b[0m\u001b[0;36m5\u001b[0m\u001b[0;34m,\u001b[0m\u001b[0;36m4\u001b[0m\u001b[0;34m,\u001b[0m\u001b[0;36m7\u001b[0m\u001b[0;34m]\u001b[0m\u001b[0;34m\u001b[0m\u001b[0;34m\u001b[0m\u001b[0m\n\u001b[0m\u001b[1;32m      3\u001b[0m \u001b[0;32mif\u001b[0m \u001b[0;34m(\u001b[0m\u001b[0;34m(\u001b[0m\u001b[0ma\u001b[0m\u001b[0;34m%\u001b[0m\u001b[0;36m2\u001b[0m\u001b[0;34m)\u001b[0m\u001b[0;34m==\u001b[0m\u001b[0;36m0\u001b[0m\u001b[0;34m)\u001b[0m\u001b[0;34m:\u001b[0m\u001b[0;34m\u001b[0m\u001b[0;34m\u001b[0m\u001b[0m\n\u001b[1;32m      4\u001b[0m     \u001b[0mprint\u001b[0m\u001b[0;34m(\u001b[0m\u001b[0mmath\u001b[0m\u001b[0;34m.\u001b[0m\u001b[0msqrt\u001b[0m\u001b[0;34m(\u001b[0m\u001b[0ma\u001b[0m\u001b[0;34m)\u001b[0m\u001b[0;34m-\u001b[0m\u001b[0;36m2\u001b[0m\u001b[0;34m)\u001b[0m\u001b[0;34m\u001b[0m\u001b[0;34m\u001b[0m\u001b[0m\n\u001b[1;32m      5\u001b[0m \u001b[0;32melse\u001b[0m\u001b[0;34m:\u001b[0m\u001b[0;34m\u001b[0m\u001b[0;34m\u001b[0m\u001b[0m\n",
            "\u001b[0;31mTypeError\u001b[0m: 'type' object is not subscriptable"
          ]
        }
      ]
    },
    {
      "cell_type": "code",
      "metadata": {
        "id": "xcwRi_qp2mjg",
        "colab_type": "code",
        "colab": {}
      },
      "source": [
        "didnt get the concept which include the logic of coding ,question no 4 and 5"
      ],
      "execution_count": null,
      "outputs": []
    }
  ]
}