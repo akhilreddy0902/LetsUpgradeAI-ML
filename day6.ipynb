{
  "nbformat": 4,
  "nbformat_minor": 0,
  "metadata": {
    "colab": {
      "name": "day6.ipynb",
      "provenance": []
    },
    "kernelspec": {
      "name": "python3",
      "display_name": "Python 3"
    }
  },
  "cells": [
    {
      "cell_type": "code",
      "metadata": {
        "id": "_G2HSLUM8z-i",
        "colab_type": "code",
        "colab": {
          "base_uri": "https://localhost:8080/",
          "height": 51
        },
        "outputId": "ad37c545-c056-4e9c-d511-673d81348020"
      },
      "source": [
        "inp=input()\n",
        "x=inp.index(\"@\")\n",
        "print(inp[x+1:len(inp)-4],end='')"
      ],
      "execution_count": 4,
      "outputs": [
        {
          "output_type": "stream",
          "text": [
            "akhil@reddygmail.com\n",
            "reddygmail"
          ],
          "name": "stdout"
        }
      ]
    },
    {
      "cell_type": "code",
      "metadata": {
        "id": "7l4CtCKm-EWi",
        "colab_type": "code",
        "colab": {
          "base_uri": "https://localhost:8080/",
          "height": 51
        },
        "outputId": "9628032b-2d50-497c-9ecc-5b1720ba8173"
      },
      "source": [
        "item= input(\"input comma separated sequence of words\")\n",
        "word = [word for word in item.split(\",\") ]\n",
        "print(\",\".join(sorted(list(set(words)))))\n"
      ],
      "execution_count": 11,
      "outputs": [
        {
          "output_type": "stream",
          "text": [
            "input comma separated sequence of wordsakhil,anish,ant\n",
            "akhil,anish,ant,zero\n"
          ],
          "name": "stdout"
        }
      ]
    },
    {
      "cell_type": "code",
      "metadata": {
        "id": "UBIJoBSJA1Ni",
        "colab_type": "code",
        "colab": {
          "base_uri": "https://localhost:8080/",
          "height": 34
        },
        "outputId": "f6673074-f64a-4628-e6dd-d6eec124c90b"
      },
      "source": [
        "def find_missing(lst): \n",
        "    return [x for x in range(lst[0], lst[-1]+1)  \n",
        "                               if x not in lst] \n",
        "\n",
        "lst = [1, 2, 4, 6, 7, 9, 10] \n",
        "print(find_missing(lst))"
      ],
      "execution_count": 16,
      "outputs": [
        {
          "output_type": "stream",
          "text": [
            "[3, 5, 8]\n"
          ],
          "name": "stdout"
        }
      ]
    },
    {
      "cell_type": "code",
      "metadata": {
        "id": "xFly_LpUGJVr",
        "colab_type": "code",
        "colab": {}
      },
      "source": [
        "def Remove(duplicate): \n",
        "    final_list = [] \n",
        "    for num in duplicate: \n",
        "        if num not in final_list: \n",
        "            final_list.append(num) \n",
        "    return final_list \n",
        "    duplicate = [2, 4, 10, 20, 5, 2, 20, 4]\n",
        "def reverse(lst):\n",
        "  return[ele for ele in reversed(lst) ]\n",
        "  duplicate = [2, 4, 10, 20, 5, 2, 20, 4]\n",
        "  print(remove(duplicate) and reverse(lst))\n"
      ],
      "execution_count": 32,
      "outputs": []
    }
  ]
}